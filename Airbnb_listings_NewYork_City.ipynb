{
 "cells": [
  {
   "cell_type": "markdown",
   "metadata": {},
   "source": [
    "<h2>Airbnb Listings in New York City</h2>"
   ]
  },
  {
   "cell_type": "markdown",
   "metadata": {},
   "source": [
    "<b>Problem Statement:</b>\n",
    "\n",
    "The goal of this analysis is to uncover valuable insights from Airbnb listings in New York City to assist hosts, guests, and stakeholders in making informed decisions. By examining various factors such as host experience, neighborhood characteristics, property types, room types, pricing, and review scores, we aim to answer the following questions:\n",
    "\n",
    " - How does host experience impact review scores?\n",
    " - Which neighborhoods offer the highest average prices and the best review scores?\n",
    " - How do property types and room types influence pricing and review scores?\n",
    " - What is the relationship between the number of listings and the number of reviews across different neighborhoods?\n",
    " - Is there an optimal price point that maximizes review scores?\n",
    " - How does the number of beds in a listing affect its price and review scores?\n",
    " - Which zip codes have the highest average prices and review scores?\n",
    " - How have prices and review scores trended over time?\n",
    "\n",
    "By answering these questions, we aim to provide a comprehensive overview of the Airbnb market in New York City, offering actionable insights for improving listing performance and enhancing guest experiences."
   ]
  },
  {
   "cell_type": "code",
   "execution_count": 1,
   "metadata": {},
   "outputs": [],
   "source": [
    "# import required libraries\n",
    "import numpy as np\n",
    "import pandas as pd\n",
    "import matplotlib.pyplot as plt\n",
    "%matplotlib inline\n",
    "import seaborn as sns"
   ]
  },
  {
   "cell_type": "code",
   "execution_count": 3,
   "metadata": {},
   "outputs": [],
   "source": [
    "# Load the dataset\n",
    "data = pd.read_excel(\"archive\\\\airbnb.xlsx\")"
   ]
  },
  {
   "cell_type": "code",
   "execution_count": null,
   "metadata": {},
   "outputs": [],
   "source": []
  }
 ],
 "metadata": {
  "kernelspec": {
   "display_name": "Deep_Learning",
   "language": "python",
   "name": "python3"
  },
  "language_info": {
   "codemirror_mode": {
    "name": "ipython",
    "version": 3
   },
   "file_extension": ".py",
   "mimetype": "text/x-python",
   "name": "python",
   "nbconvert_exporter": "python",
   "pygments_lexer": "ipython3",
   "version": "3.9.18"
  }
 },
 "nbformat": 4,
 "nbformat_minor": 2
}
